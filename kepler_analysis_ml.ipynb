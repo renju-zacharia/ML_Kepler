{
 "cells": [
  {
   "cell_type": "code",
   "execution_count": 1,
   "metadata": {},
   "outputs": [],
   "source": [
    "import pandas as pd"
   ]
  },
  {
   "cell_type": "markdown",
   "metadata": {},
   "source": [
    "# Read the CSV and Perform Basic Data Cleaning"
   ]
  },
  {
   "cell_type": "code",
   "execution_count": 2,
   "metadata": {},
   "outputs": [
    {
     "data": {
      "text/html": [
       "<div>\n",
       "<style scoped>\n",
       "    .dataframe tbody tr th:only-of-type {\n",
       "        vertical-align: middle;\n",
       "    }\n",
       "\n",
       "    .dataframe tbody tr th {\n",
       "        vertical-align: top;\n",
       "    }\n",
       "\n",
       "    .dataframe thead th {\n",
       "        text-align: right;\n",
       "    }\n",
       "</style>\n",
       "<table border=\"1\" class=\"dataframe\">\n",
       "  <thead>\n",
       "    <tr style=\"text-align: right;\">\n",
       "      <th></th>\n",
       "      <th>koi_disposition</th>\n",
       "      <th>koi_fpflag_nt</th>\n",
       "      <th>koi_fpflag_ss</th>\n",
       "      <th>koi_fpflag_co</th>\n",
       "      <th>koi_fpflag_ec</th>\n",
       "      <th>koi_period</th>\n",
       "      <th>koi_period_err1</th>\n",
       "      <th>koi_period_err2</th>\n",
       "      <th>koi_time0bk</th>\n",
       "      <th>koi_time0bk_err1</th>\n",
       "      <th>...</th>\n",
       "      <th>koi_steff_err2</th>\n",
       "      <th>koi_slogg</th>\n",
       "      <th>koi_slogg_err1</th>\n",
       "      <th>koi_slogg_err2</th>\n",
       "      <th>koi_srad</th>\n",
       "      <th>koi_srad_err1</th>\n",
       "      <th>koi_srad_err2</th>\n",
       "      <th>ra</th>\n",
       "      <th>dec</th>\n",
       "      <th>koi_kepmag</th>\n",
       "    </tr>\n",
       "  </thead>\n",
       "  <tbody>\n",
       "    <tr>\n",
       "      <th>0</th>\n",
       "      <td>CONFIRMED</td>\n",
       "      <td>0</td>\n",
       "      <td>0</td>\n",
       "      <td>0</td>\n",
       "      <td>0</td>\n",
       "      <td>9.488036</td>\n",
       "      <td>2.775000e-05</td>\n",
       "      <td>-2.775000e-05</td>\n",
       "      <td>170.538750</td>\n",
       "      <td>0.002160</td>\n",
       "      <td>...</td>\n",
       "      <td>-81.0</td>\n",
       "      <td>4.467</td>\n",
       "      <td>0.064</td>\n",
       "      <td>-0.096</td>\n",
       "      <td>0.927</td>\n",
       "      <td>0.105</td>\n",
       "      <td>-0.061</td>\n",
       "      <td>291.93423</td>\n",
       "      <td>48.141651</td>\n",
       "      <td>15.347</td>\n",
       "    </tr>\n",
       "    <tr>\n",
       "      <th>1</th>\n",
       "      <td>CONFIRMED</td>\n",
       "      <td>0</td>\n",
       "      <td>0</td>\n",
       "      <td>0</td>\n",
       "      <td>0</td>\n",
       "      <td>54.418383</td>\n",
       "      <td>2.479000e-04</td>\n",
       "      <td>-2.479000e-04</td>\n",
       "      <td>162.513840</td>\n",
       "      <td>0.003520</td>\n",
       "      <td>...</td>\n",
       "      <td>-81.0</td>\n",
       "      <td>4.467</td>\n",
       "      <td>0.064</td>\n",
       "      <td>-0.096</td>\n",
       "      <td>0.927</td>\n",
       "      <td>0.105</td>\n",
       "      <td>-0.061</td>\n",
       "      <td>291.93423</td>\n",
       "      <td>48.141651</td>\n",
       "      <td>15.347</td>\n",
       "    </tr>\n",
       "    <tr>\n",
       "      <th>2</th>\n",
       "      <td>FALSE POSITIVE</td>\n",
       "      <td>0</td>\n",
       "      <td>1</td>\n",
       "      <td>0</td>\n",
       "      <td>0</td>\n",
       "      <td>19.899140</td>\n",
       "      <td>1.494000e-05</td>\n",
       "      <td>-1.494000e-05</td>\n",
       "      <td>175.850252</td>\n",
       "      <td>0.000581</td>\n",
       "      <td>...</td>\n",
       "      <td>-176.0</td>\n",
       "      <td>4.544</td>\n",
       "      <td>0.044</td>\n",
       "      <td>-0.176</td>\n",
       "      <td>0.868</td>\n",
       "      <td>0.233</td>\n",
       "      <td>-0.078</td>\n",
       "      <td>297.00482</td>\n",
       "      <td>48.134129</td>\n",
       "      <td>15.436</td>\n",
       "    </tr>\n",
       "    <tr>\n",
       "      <th>3</th>\n",
       "      <td>FALSE POSITIVE</td>\n",
       "      <td>0</td>\n",
       "      <td>1</td>\n",
       "      <td>0</td>\n",
       "      <td>0</td>\n",
       "      <td>1.736952</td>\n",
       "      <td>2.630000e-07</td>\n",
       "      <td>-2.630000e-07</td>\n",
       "      <td>170.307565</td>\n",
       "      <td>0.000115</td>\n",
       "      <td>...</td>\n",
       "      <td>-174.0</td>\n",
       "      <td>4.564</td>\n",
       "      <td>0.053</td>\n",
       "      <td>-0.168</td>\n",
       "      <td>0.791</td>\n",
       "      <td>0.201</td>\n",
       "      <td>-0.067</td>\n",
       "      <td>285.53461</td>\n",
       "      <td>48.285210</td>\n",
       "      <td>15.597</td>\n",
       "    </tr>\n",
       "    <tr>\n",
       "      <th>4</th>\n",
       "      <td>CONFIRMED</td>\n",
       "      <td>0</td>\n",
       "      <td>0</td>\n",
       "      <td>0</td>\n",
       "      <td>0</td>\n",
       "      <td>2.525592</td>\n",
       "      <td>3.761000e-06</td>\n",
       "      <td>-3.761000e-06</td>\n",
       "      <td>171.595550</td>\n",
       "      <td>0.001130</td>\n",
       "      <td>...</td>\n",
       "      <td>-211.0</td>\n",
       "      <td>4.438</td>\n",
       "      <td>0.070</td>\n",
       "      <td>-0.210</td>\n",
       "      <td>1.046</td>\n",
       "      <td>0.334</td>\n",
       "      <td>-0.133</td>\n",
       "      <td>288.75488</td>\n",
       "      <td>48.226200</td>\n",
       "      <td>15.509</td>\n",
       "    </tr>\n",
       "  </tbody>\n",
       "</table>\n",
       "<p>5 rows × 41 columns</p>\n",
       "</div>"
      ],
      "text/plain": [
       "  koi_disposition  koi_fpflag_nt  koi_fpflag_ss  koi_fpflag_co  koi_fpflag_ec  \\\n",
       "0       CONFIRMED              0              0              0              0   \n",
       "1       CONFIRMED              0              0              0              0   \n",
       "2  FALSE POSITIVE              0              1              0              0   \n",
       "3  FALSE POSITIVE              0              1              0              0   \n",
       "4       CONFIRMED              0              0              0              0   \n",
       "\n",
       "   koi_period  koi_period_err1  koi_period_err2  koi_time0bk  \\\n",
       "0    9.488036     2.775000e-05    -2.775000e-05   170.538750   \n",
       "1   54.418383     2.479000e-04    -2.479000e-04   162.513840   \n",
       "2   19.899140     1.494000e-05    -1.494000e-05   175.850252   \n",
       "3    1.736952     2.630000e-07    -2.630000e-07   170.307565   \n",
       "4    2.525592     3.761000e-06    -3.761000e-06   171.595550   \n",
       "\n",
       "   koi_time0bk_err1  ...  koi_steff_err2  koi_slogg  koi_slogg_err1  \\\n",
       "0          0.002160  ...           -81.0      4.467           0.064   \n",
       "1          0.003520  ...           -81.0      4.467           0.064   \n",
       "2          0.000581  ...          -176.0      4.544           0.044   \n",
       "3          0.000115  ...          -174.0      4.564           0.053   \n",
       "4          0.001130  ...          -211.0      4.438           0.070   \n",
       "\n",
       "   koi_slogg_err2  koi_srad  koi_srad_err1  koi_srad_err2         ra  \\\n",
       "0          -0.096     0.927          0.105         -0.061  291.93423   \n",
       "1          -0.096     0.927          0.105         -0.061  291.93423   \n",
       "2          -0.176     0.868          0.233         -0.078  297.00482   \n",
       "3          -0.168     0.791          0.201         -0.067  285.53461   \n",
       "4          -0.210     1.046          0.334         -0.133  288.75488   \n",
       "\n",
       "         dec  koi_kepmag  \n",
       "0  48.141651      15.347  \n",
       "1  48.141651      15.347  \n",
       "2  48.134129      15.436  \n",
       "3  48.285210      15.597  \n",
       "4  48.226200      15.509  \n",
       "\n",
       "[5 rows x 41 columns]"
      ]
     },
     "execution_count": 2,
     "metadata": {},
     "output_type": "execute_result"
    }
   ],
   "source": [
    "df = pd.read_csv(\"cumulative.csv\")\n",
    "df = df.drop(columns=[\"rowid\", \"kepid\", \"kepoi_name\", \"kepler_name\", \"koi_pdisposition\", \"koi_score\", \"koi_tce_delivname\"])\n",
    "# Drop the null columns where all values are null\n",
    "df = df.dropna(axis='columns', how='all')\n",
    "# Drop the null rows\n",
    "df = df.dropna()\n",
    "df.head()"
   ]
  },
  {
   "cell_type": "markdown",
   "metadata": {},
   "source": [
    "# Create a Train Test Split\n",
    "\n",
    "Use `koi_disposition` for the y values"
   ]
  },
  {
   "cell_type": "code",
   "execution_count": 3,
   "metadata": {},
   "outputs": [],
   "source": [
    "from sklearn.model_selection import train_test_split\n",
    "\n",
    "y = df[\"koi_disposition\"]\n",
    "X = df.drop(\"koi_disposition\", axis=1)\n",
    "#X = voice.drop(\"label\", axis=1)\n",
    "\n",
    "X_train, X_test, y_train, y_test = train_test_split(X, y, random_state=1)"
   ]
  },
  {
   "cell_type": "code",
   "execution_count": 4,
   "metadata": {},
   "outputs": [
    {
     "data": {
      "text/html": [
       "<div>\n",
       "<style scoped>\n",
       "    .dataframe tbody tr th:only-of-type {\n",
       "        vertical-align: middle;\n",
       "    }\n",
       "\n",
       "    .dataframe tbody tr th {\n",
       "        vertical-align: top;\n",
       "    }\n",
       "\n",
       "    .dataframe thead th {\n",
       "        text-align: right;\n",
       "    }\n",
       "</style>\n",
       "<table border=\"1\" class=\"dataframe\">\n",
       "  <thead>\n",
       "    <tr style=\"text-align: right;\">\n",
       "      <th></th>\n",
       "      <th>koi_fpflag_nt</th>\n",
       "      <th>koi_fpflag_ss</th>\n",
       "      <th>koi_fpflag_co</th>\n",
       "      <th>koi_fpflag_ec</th>\n",
       "      <th>koi_period</th>\n",
       "      <th>koi_period_err1</th>\n",
       "      <th>koi_period_err2</th>\n",
       "      <th>koi_time0bk</th>\n",
       "      <th>koi_time0bk_err1</th>\n",
       "      <th>koi_time0bk_err2</th>\n",
       "      <th>...</th>\n",
       "      <th>koi_steff_err2</th>\n",
       "      <th>koi_slogg</th>\n",
       "      <th>koi_slogg_err1</th>\n",
       "      <th>koi_slogg_err2</th>\n",
       "      <th>koi_srad</th>\n",
       "      <th>koi_srad_err1</th>\n",
       "      <th>koi_srad_err2</th>\n",
       "      <th>ra</th>\n",
       "      <th>dec</th>\n",
       "      <th>koi_kepmag</th>\n",
       "    </tr>\n",
       "  </thead>\n",
       "  <tbody>\n",
       "    <tr>\n",
       "      <th>6274</th>\n",
       "      <td>0</td>\n",
       "      <td>0</td>\n",
       "      <td>0</td>\n",
       "      <td>0</td>\n",
       "      <td>492.252990</td>\n",
       "      <td>0.011050</td>\n",
       "      <td>-0.011050</td>\n",
       "      <td>520.860000</td>\n",
       "      <td>0.01800</td>\n",
       "      <td>-0.01800</td>\n",
       "      <td>...</td>\n",
       "      <td>-152.0</td>\n",
       "      <td>4.478</td>\n",
       "      <td>0.055</td>\n",
       "      <td>-0.283</td>\n",
       "      <td>0.936</td>\n",
       "      <td>0.383</td>\n",
       "      <td>-0.089</td>\n",
       "      <td>292.13519</td>\n",
       "      <td>38.926491</td>\n",
       "      <td>13.465</td>\n",
       "    </tr>\n",
       "    <tr>\n",
       "      <th>3541</th>\n",
       "      <td>0</td>\n",
       "      <td>0</td>\n",
       "      <td>0</td>\n",
       "      <td>0</td>\n",
       "      <td>49.567408</td>\n",
       "      <td>0.000187</td>\n",
       "      <td>-0.000187</td>\n",
       "      <td>169.542270</td>\n",
       "      <td>0.00322</td>\n",
       "      <td>-0.00322</td>\n",
       "      <td>...</td>\n",
       "      <td>-111.0</td>\n",
       "      <td>4.474</td>\n",
       "      <td>0.059</td>\n",
       "      <td>-0.110</td>\n",
       "      <td>0.927</td>\n",
       "      <td>0.122</td>\n",
       "      <td>-0.066</td>\n",
       "      <td>290.67313</td>\n",
       "      <td>38.691010</td>\n",
       "      <td>13.597</td>\n",
       "    </tr>\n",
       "    <tr>\n",
       "      <th>8659</th>\n",
       "      <td>1</td>\n",
       "      <td>0</td>\n",
       "      <td>0</td>\n",
       "      <td>0</td>\n",
       "      <td>452.100930</td>\n",
       "      <td>0.054070</td>\n",
       "      <td>-0.054070</td>\n",
       "      <td>460.488400</td>\n",
       "      <td>0.05070</td>\n",
       "      <td>-0.05070</td>\n",
       "      <td>...</td>\n",
       "      <td>-214.0</td>\n",
       "      <td>4.456</td>\n",
       "      <td>0.066</td>\n",
       "      <td>-0.281</td>\n",
       "      <td>0.956</td>\n",
       "      <td>0.370</td>\n",
       "      <td>-0.103</td>\n",
       "      <td>292.10245</td>\n",
       "      <td>37.566910</td>\n",
       "      <td>15.107</td>\n",
       "    </tr>\n",
       "    <tr>\n",
       "      <th>4851</th>\n",
       "      <td>0</td>\n",
       "      <td>1</td>\n",
       "      <td>0</td>\n",
       "      <td>0</td>\n",
       "      <td>18.645329</td>\n",
       "      <td>0.000002</td>\n",
       "      <td>-0.000002</td>\n",
       "      <td>147.207512</td>\n",
       "      <td>0.00007</td>\n",
       "      <td>-0.00007</td>\n",
       "      <td>...</td>\n",
       "      <td>-175.0</td>\n",
       "      <td>4.554</td>\n",
       "      <td>0.038</td>\n",
       "      <td>-0.200</td>\n",
       "      <td>0.845</td>\n",
       "      <td>0.251</td>\n",
       "      <td>-0.079</td>\n",
       "      <td>287.63705</td>\n",
       "      <td>42.530819</td>\n",
       "      <td>15.511</td>\n",
       "    </tr>\n",
       "    <tr>\n",
       "      <th>1387</th>\n",
       "      <td>0</td>\n",
       "      <td>0</td>\n",
       "      <td>0</td>\n",
       "      <td>0</td>\n",
       "      <td>5.184990</td>\n",
       "      <td>0.000012</td>\n",
       "      <td>-0.000012</td>\n",
       "      <td>131.881400</td>\n",
       "      <td>0.00185</td>\n",
       "      <td>-0.00185</td>\n",
       "      <td>...</td>\n",
       "      <td>-131.0</td>\n",
       "      <td>4.680</td>\n",
       "      <td>0.059</td>\n",
       "      <td>-0.027</td>\n",
       "      <td>0.560</td>\n",
       "      <td>0.045</td>\n",
       "      <td>-0.056</td>\n",
       "      <td>295.90656</td>\n",
       "      <td>45.809120</td>\n",
       "      <td>14.744</td>\n",
       "    </tr>\n",
       "  </tbody>\n",
       "</table>\n",
       "<p>5 rows × 40 columns</p>\n",
       "</div>"
      ],
      "text/plain": [
       "      koi_fpflag_nt  koi_fpflag_ss  koi_fpflag_co  koi_fpflag_ec  koi_period  \\\n",
       "6274              0              0              0              0  492.252990   \n",
       "3541              0              0              0              0   49.567408   \n",
       "8659              1              0              0              0  452.100930   \n",
       "4851              0              1              0              0   18.645329   \n",
       "1387              0              0              0              0    5.184990   \n",
       "\n",
       "      koi_period_err1  koi_period_err2  koi_time0bk  koi_time0bk_err1  \\\n",
       "6274         0.011050        -0.011050   520.860000           0.01800   \n",
       "3541         0.000187        -0.000187   169.542270           0.00322   \n",
       "8659         0.054070        -0.054070   460.488400           0.05070   \n",
       "4851         0.000002        -0.000002   147.207512           0.00007   \n",
       "1387         0.000012        -0.000012   131.881400           0.00185   \n",
       "\n",
       "      koi_time0bk_err2  ...  koi_steff_err2  koi_slogg  koi_slogg_err1  \\\n",
       "6274          -0.01800  ...          -152.0      4.478           0.055   \n",
       "3541          -0.00322  ...          -111.0      4.474           0.059   \n",
       "8659          -0.05070  ...          -214.0      4.456           0.066   \n",
       "4851          -0.00007  ...          -175.0      4.554           0.038   \n",
       "1387          -0.00185  ...          -131.0      4.680           0.059   \n",
       "\n",
       "      koi_slogg_err2  koi_srad  koi_srad_err1  koi_srad_err2         ra  \\\n",
       "6274          -0.283     0.936          0.383         -0.089  292.13519   \n",
       "3541          -0.110     0.927          0.122         -0.066  290.67313   \n",
       "8659          -0.281     0.956          0.370         -0.103  292.10245   \n",
       "4851          -0.200     0.845          0.251         -0.079  287.63705   \n",
       "1387          -0.027     0.560          0.045         -0.056  295.90656   \n",
       "\n",
       "            dec  koi_kepmag  \n",
       "6274  38.926491      13.465  \n",
       "3541  38.691010      13.597  \n",
       "8659  37.566910      15.107  \n",
       "4851  42.530819      15.511  \n",
       "1387  45.809120      14.744  \n",
       "\n",
       "[5 rows x 40 columns]"
      ]
     },
     "execution_count": 4,
     "metadata": {},
     "output_type": "execute_result"
    }
   ],
   "source": [
    "X_train.head()"
   ]
  },
  {
   "cell_type": "markdown",
   "metadata": {},
   "source": [
    "# Pre-processing\n",
    "\n",
    "Scale the data using the MinMaxScaler"
   ]
  },
  {
   "cell_type": "code",
   "execution_count": 5,
   "metadata": {},
   "outputs": [
    {
     "data": {
      "text/plain": [
       "MinMaxScaler(copy=True, feature_range=(0, 1))"
      ]
     },
     "execution_count": 5,
     "metadata": {},
     "output_type": "execute_result"
    }
   ],
   "source": [
    "from sklearn.preprocessing import MinMaxScaler\n",
    "from sklearn.preprocessing import StandardScaler\n",
    "\n",
    "X_scaler = MinMaxScaler().fit(X_train)\n",
    "X_train_scaler = X_scaler.transform(X_train)\n",
    "\n",
    "X_test_scaler = X_scaler.transform(X_test)\n",
    "#X_scaler"
   ]
  },
  {
   "cell_type": "markdown",
   "metadata": {},
   "source": [
    "# Train the Support Vector Machine"
   ]
  },
  {
   "cell_type": "code",
   "execution_count": 6,
   "metadata": {},
   "outputs": [
    {
     "data": {
      "text/plain": [
       "SVC(C=1.0, cache_size=200, class_weight=None, coef0=0.0,\n",
       "    decision_function_shape='ovr', degree=3, gamma='auto_deprecated',\n",
       "    kernel='linear', max_iter=-1, probability=False, random_state=None,\n",
       "    shrinking=True, tol=0.001, verbose=False)"
      ]
     },
     "execution_count": 6,
     "metadata": {},
     "output_type": "execute_result"
    }
   ],
   "source": [
    "# Support vector machine linear classifier\n",
    "from sklearn.svm import SVC \n",
    "model = SVC(kernel='linear')\n",
    "model"
   ]
  },
  {
   "cell_type": "code",
   "execution_count": 7,
   "metadata": {},
   "outputs": [
    {
     "data": {
      "text/plain": [
       "SVC(C=1.0, cache_size=200, class_weight=None, coef0=0.0,\n",
       "    decision_function_shape='ovr', degree=3, gamma='auto_deprecated',\n",
       "    kernel='linear', max_iter=-1, probability=False, random_state=None,\n",
       "    shrinking=True, tol=0.001, verbose=False)"
      ]
     },
     "execution_count": 7,
     "metadata": {},
     "output_type": "execute_result"
    }
   ],
   "source": [
    "model.fit(X_train_scaler, y_train)"
   ]
  },
  {
   "cell_type": "code",
   "execution_count": 9,
   "metadata": {},
   "outputs": [
    {
     "name": "stdout",
     "output_type": "stream",
     "text": [
      "Training Data Score: 0.8584934431229033\n",
      "Testing Data Score: 0.8522415370539799\n"
     ]
    }
   ],
   "source": [
    "print(f\"Training Data Score: {model.score(X_train_scaler, y_train)}\")\n",
    "print(f\"Testing Data Score: {model.score(X_test_scaler, y_test)}\")"
   ]
  },
  {
   "cell_type": "markdown",
   "metadata": {},
   "source": [
    "# Hyperparameter Tuning\n",
    "\n",
    "Use `GridSearchCV` to tune the `C` and `gamma` parameters"
   ]
  },
  {
   "cell_type": "code",
   "execution_count": 12,
   "metadata": {},
   "outputs": [
    {
     "data": {
      "text/plain": [
       "GridSearchCV(cv='warn', error_score='raise-deprecating',\n",
       "             estimator=SVC(C=1.0, cache_size=200, class_weight=None, coef0=0.0,\n",
       "                           decision_function_shape='ovr', degree=3,\n",
       "                           gamma='auto_deprecated', kernel='linear',\n",
       "                           max_iter=-1, probability=False, random_state=None,\n",
       "                           shrinking=True, tol=0.001, verbose=False),\n",
       "             iid='warn', n_jobs=-1,\n",
       "             param_grid={'C': [1, 5, 10], 'gamma': [0.0001, 0.001, 0.01]},\n",
       "             pre_dispatch='2*n_jobs', refit=True, return_train_score=False,\n",
       "             scoring=None, verbose=3)"
      ]
     },
     "execution_count": 12,
     "metadata": {},
     "output_type": "execute_result"
    }
   ],
   "source": [
    "# Create the GridSearchCV model\n",
    "from sklearn.model_selection import GridSearchCV\n",
    "param_grid = {'C': [1, 5, 10],\n",
    "              'gamma': [0.0001, 0.001, 0.01]}\n",
    "grid = GridSearchCV(model, param_grid, verbose=3, n_jobs=-1)\n",
    "grid"
   ]
  },
  {
   "cell_type": "code",
   "execution_count": 13,
   "metadata": {},
   "outputs": [
    {
     "name": "stderr",
     "output_type": "stream",
     "text": [
      "C:\\Users\\rz0001\\AppData\\Local\\Continuum\\anaconda3\\envs\\Pythondata\\lib\\site-packages\\sklearn\\model_selection\\_split.py:1978: FutureWarning: The default value of cv will change from 3 to 5 in version 0.22. Specify it explicitly to silence this warning.\n",
      "  warnings.warn(CV_WARNING, FutureWarning)\n",
      "[Parallel(n_jobs=-1)]: Using backend LokyBackend with 4 concurrent workers.\n"
     ]
    },
    {
     "name": "stdout",
     "output_type": "stream",
     "text": [
      "Fitting 3 folds for each of 9 candidates, totalling 27 fits\n"
     ]
    },
    {
     "name": "stderr",
     "output_type": "stream",
     "text": [
      "[Parallel(n_jobs=-1)]: Done  27 out of  27 | elapsed:    8.0s finished\n"
     ]
    },
    {
     "data": {
      "text/plain": [
       "GridSearchCV(cv='warn', error_score='raise-deprecating',\n",
       "             estimator=SVC(C=1.0, cache_size=200, class_weight=None, coef0=0.0,\n",
       "                           decision_function_shape='ovr', degree=3,\n",
       "                           gamma='auto_deprecated', kernel='linear',\n",
       "                           max_iter=-1, probability=False, random_state=None,\n",
       "                           shrinking=True, tol=0.001, verbose=False),\n",
       "             iid='warn', n_jobs=-1,\n",
       "             param_grid={'C': [1, 5, 10], 'gamma': [0.0001, 0.001, 0.01]},\n",
       "             pre_dispatch='2*n_jobs', refit=True, return_train_score=False,\n",
       "             scoring=None, verbose=3)"
      ]
     },
     "execution_count": 13,
     "metadata": {},
     "output_type": "execute_result"
    }
   ],
   "source": [
    "# Train the model with GridSearch\n",
    "grid.fit(X_train_scaler, y_train)"
   ]
  },
  {
   "cell_type": "code",
   "execution_count": 14,
   "metadata": {},
   "outputs": [
    {
     "name": "stdout",
     "output_type": "stream",
     "text": [
      "{'C': 10, 'gamma': 0.0001}\n",
      "0.8732845379688929\n"
     ]
    }
   ],
   "source": [
    "print(grid.best_params_)\n",
    "print(grid.best_score_)"
   ]
  },
  {
   "cell_type": "code",
   "execution_count": 16,
   "metadata": {},
   "outputs": [
    {
     "data": {
      "text/plain": [
       "array(['FALSE POSITIVE', 'FALSE POSITIVE', 'CONFIRMED', ...,\n",
       "       'FALSE POSITIVE', 'CANDIDATE', 'FALSE POSITIVE'], dtype=object)"
      ]
     },
     "execution_count": 16,
     "metadata": {},
     "output_type": "execute_result"
    }
   ],
   "source": [
    "predictions = grid.predict(X_test_scaler)\n",
    "predictions"
   ]
  },
  {
   "cell_type": "markdown",
   "metadata": {},
   "source": [
    "### Random Forest "
   ]
  },
  {
   "cell_type": "code",
   "execution_count": 17,
   "metadata": {},
   "outputs": [],
   "source": [
    "from sklearn.ensemble import RandomForestClassifier"
   ]
  },
  {
   "cell_type": "code",
   "execution_count": 18,
   "metadata": {},
   "outputs": [],
   "source": [
    "rf = RandomForestClassifier(n_estimators=200)"
   ]
  },
  {
   "cell_type": "code",
   "execution_count": 19,
   "metadata": {},
   "outputs": [],
   "source": [
    "rf = rf.fit(X_train_scaler, y_train)"
   ]
  },
  {
   "cell_type": "code",
   "execution_count": 21,
   "metadata": {},
   "outputs": [
    {
     "data": {
      "text/plain": [
       "0.8879231473010064"
      ]
     },
     "execution_count": 21,
     "metadata": {},
     "output_type": "execute_result"
    }
   ],
   "source": [
    "rf.score(X_test_scaler, y_test)"
   ]
  },
  {
   "cell_type": "code",
   "execution_count": 22,
   "metadata": {},
   "outputs": [
    {
     "data": {
      "text/plain": [
       "array([0.10395348, 0.07615171, 0.10894166, 0.03439495, 0.02104037,\n",
       "       0.01606072, 0.01796029, 0.01241555, 0.02673741, 0.02638347,\n",
       "       0.02050432, 0.01122593, 0.0095782 , 0.02351021, 0.02751297,\n",
       "       0.03309916, 0.02243118, 0.01384483, 0.01401961, 0.05263473,\n",
       "       0.02777741, 0.02895671, 0.01461274, 0.0132926 , 0.01706577,\n",
       "       0.0118407 , 0.05877028, 0.00320785, 0.00918641, 0.02694429,\n",
       "       0.02685182, 0.00908221, 0.0088455 , 0.0098434 , 0.00908561,\n",
       "       0.01139496, 0.00844734, 0.01202187, 0.0101434 , 0.01022839])"
      ]
     },
     "execution_count": 22,
     "metadata": {},
     "output_type": "execute_result"
    }
   ],
   "source": [
    "importances = rf.feature_importances_\n",
    "importances"
   ]
  },
  {
   "cell_type": "markdown",
   "metadata": {},
   "source": [
    "### K Nearest Neighbors"
   ]
  },
  {
   "cell_type": "code",
   "execution_count": 23,
   "metadata": {},
   "outputs": [],
   "source": [
    "from sklearn.neighbors import KNeighborsClassifier\n",
    "import matplotlib.pyplot as plt"
   ]
  },
  {
   "cell_type": "code",
   "execution_count": 25,
   "metadata": {},
   "outputs": [
    {
     "data": {
      "text/plain": [
       "(6558,)"
      ]
     },
     "execution_count": 25,
     "metadata": {},
     "output_type": "execute_result"
    }
   ],
   "source": [
    "X_train_scaler.shape\n",
    "y_train.shape\n"
   ]
  },
  {
   "cell_type": "code",
   "execution_count": 26,
   "metadata": {},
   "outputs": [
    {
     "name": "stdout",
     "output_type": "stream",
     "text": [
      "k: 1, Train/Test Score: 1.000/0.801\n",
      "k: 3, Train/Test Score: 0.901/0.817\n",
      "k: 5, Train/Test Score: 0.874/0.820\n",
      "k: 7, Train/Test Score: 0.866/0.825\n",
      "k: 9, Train/Test Score: 0.858/0.828\n",
      "k: 11, Train/Test Score: 0.851/0.829\n",
      "k: 13, Train/Test Score: 0.846/0.823\n",
      "k: 15, Train/Test Score: 0.848/0.823\n",
      "k: 17, Train/Test Score: 0.845/0.824\n",
      "k: 19, Train/Test Score: 0.842/0.825\n"
     ]
    }
   ],
   "source": [
    "train_scores = []\n",
    "test_scores = []\n",
    "\n",
    "for k in range(1, 20, 2):\n",
    "    knn = KNeighborsClassifier(n_neighbors=k)\n",
    "    knn.fit(X_train_scaler, y_train)\n",
    "    train_score = knn.score(X_train_scaler, y_train)\n",
    "    test_score = knn.score(X_test_scaler, y_test)\n",
    "    train_scores.append(train_score)    \n",
    "    test_scores.append(test_score)\n",
    "    print(f\"k: {k}, Train/Test Score: {train_score:.3f}/{test_score:.3f}\")   \n",
    " "
   ]
  },
  {
   "cell_type": "code",
   "execution_count": 27,
   "metadata": {},
   "outputs": [
    {
     "data": {
      "image/png": "[encoded data removed]",
      "text/plain": [
       "<Figure size 432x288 with 1 Axes>"
      ]
     },
     "metadata": {
      "needs_background": "light"
     },
     "output_type": "display_data"
    }
   ],
   "source": [
    "plt.plot(range(1, 20, 2), train_scores, marker='o')\n",
    "plt.plot(range(1, 20, 2), test_scores, marker=\"x\")\n",
    "plt.xlabel(\"k neighbors\")\n",
    "plt.ylabel(\"Testing accuracy Score\")\n",
    "plt.show()"
   ]
  },
  {
   "cell_type": "markdown",
   "metadata": {},
   "source": [
    "### Deep Learning "
   ]
  },
  {
   "cell_type": "code",
   "execution_count": 28,
   "metadata": {},
   "outputs": [],
   "source": [
    "# Step 1: Label-encode data set\n",
    "from sklearn.preprocessing import LabelEncoder\n",
    "\n",
    "label_encoder = LabelEncoder()\n",
    "label_encoder.fit(y_train)\n",
    "encoded_y_train = label_encoder.transform(y_train)\n",
    "encoded_y_test = label_encoder.transform(y_test)"
   ]
  },
  {
   "cell_type": "code",
   "execution_count": 30,
   "metadata": {},
   "outputs": [],
   "source": [
    "# Step 2: Convert encoded labels to one-hot-encoding\n",
    "from tensorflow.keras.utils import to_categorical\n",
    "\n",
    "y_train_categorical = to_categorical(encoded_y_train)\n",
    "y_test_categorical = to_categorical(encoded_y_test)"
   ]
  },
  {
   "cell_type": "code",
   "execution_count": 31,
   "metadata": {},
   "outputs": [],
   "source": [
    "from tensorflow.keras.models import Sequential\n",
    "from tensorflow.keras.layers import Dense"
   ]
  },
  {
   "cell_type": "code",
   "execution_count": 42,
   "metadata": {},
   "outputs": [],
   "source": [
    "# Create model and add layers\n",
    "model = Sequential()\n",
    "model.add(Dense(units=100, activation='relu', input_dim=40))\n",
    "model.add(Dense(units=100, activation='relu'))\n",
    "model.add(Dense(units=3, activation='softmax'))"
   ]
  },
  {
   "cell_type": "code",
   "execution_count": 43,
   "metadata": {},
   "outputs": [],
   "source": [
    "# Compile and fit the model\n",
    "model.compile(optimizer='adam',\n",
    "              loss='categorical_crossentropy',\n",
    "              metrics=['accuracy'])"
   ]
  },
  {
   "cell_type": "code",
   "execution_count": 44,
   "metadata": {},
   "outputs": [
    {
     "name": "stdout",
     "output_type": "stream",
     "text": [
      "Model: \"sequential_2\"\n",
      "_________________________________________________________________\n",
      "Layer (type)                 Output Shape              Param #   \n",
      "=================================================================\n",
      "dense_8 (Dense)              (None, 100)               4100      \n",
      "_________________________________________________________________\n",
      "dense_9 (Dense)              (None, 100)               10100     \n",
      "_________________________________________________________________\n",
      "dense_10 (Dense)             (None, 3)                 303       \n",
      "=================================================================\n",
      "Total params: 14,503\n",
      "Trainable params: 14,503\n",
      "Non-trainable params: 0\n",
      "_________________________________________________________________\n"
     ]
    }
   ],
   "source": [
    "model.summary()"
   ]
  },
  {
   "cell_type": "code",
   "execution_count": 45,
   "metadata": {},
   "outputs": [
    {
     "name": "stdout",
     "output_type": "stream",
     "text": [
      "Epoch 1/60\n",
      "6558/6558 - 0s - loss: 0.5255 - acc: 0.7420\n",
      "Epoch 2/60\n",
      "6558/6558 - 0s - loss: 0.3618 - acc: 0.8153\n",
      "Epoch 3/60\n",
      "6558/6558 - 0s - loss: 0.3488 - acc: 0.8321\n",
      "Epoch 4/60\n",
      "6558/6558 - 0s - loss: 0.3361 - acc: 0.8387\n",
      "Epoch 5/60\n",
      "6558/6558 - 0s - loss: 0.3254 - acc: 0.8478\n",
      "Epoch 6/60\n",
      "6558/6558 - 0s - loss: 0.3137 - acc: 0.8524\n",
      "Epoch 7/60\n",
      "6558/6558 - 0s - loss: 0.3073 - acc: 0.8593\n",
      "Epoch 8/60\n",
      "6558/6558 - 0s - loss: 0.3052 - acc: 0.8635\n",
      "Epoch 9/60\n",
      "6558/6558 - 0s - loss: 0.3020 - acc: 0.8631\n",
      "Epoch 10/60\n",
      "6558/6558 - 0s - loss: 0.2988 - acc: 0.8669\n",
      "Epoch 11/60\n",
      "6558/6558 - 0s - loss: 0.2928 - acc: 0.8669\n",
      "Epoch 12/60\n",
      "6558/6558 - 0s - loss: 0.2968 - acc: 0.8661\n",
      "Epoch 13/60\n",
      "6558/6558 - 0s - loss: 0.2870 - acc: 0.8727\n",
      "Epoch 14/60\n",
      "6558/6558 - 0s - loss: 0.2878 - acc: 0.8724\n",
      "Epoch 15/60\n",
      "6558/6558 - 0s - loss: 0.2792 - acc: 0.8800\n",
      "Epoch 16/60\n",
      "6558/6558 - 0s - loss: 0.2816 - acc: 0.8772\n",
      "Epoch 17/60\n",
      "6558/6558 - 0s - loss: 0.2811 - acc: 0.8768\n",
      "Epoch 18/60\n",
      "6558/6558 - 0s - loss: 0.2746 - acc: 0.8800\n",
      "Epoch 19/60\n",
      "6558/6558 - 0s - loss: 0.2699 - acc: 0.8803\n",
      "Epoch 20/60\n",
      "6558/6558 - 0s - loss: 0.2684 - acc: 0.8817\n",
      "Epoch 21/60\n",
      "6558/6558 - 0s - loss: 0.2783 - acc: 0.8765\n",
      "Epoch 22/60\n",
      "6558/6558 - 0s - loss: 0.2671 - acc: 0.8827\n",
      "Epoch 23/60\n",
      "6558/6558 - 0s - loss: 0.2679 - acc: 0.8833\n",
      "Epoch 24/60\n",
      "6558/6558 - 0s - loss: 0.2692 - acc: 0.8833\n",
      "Epoch 25/60\n",
      "6558/6558 - 0s - loss: 0.2653 - acc: 0.8837\n",
      "Epoch 26/60\n",
      "6558/6558 - 0s - loss: 0.2654 - acc: 0.8830\n",
      "Epoch 27/60\n",
      "6558/6558 - 0s - loss: 0.2617 - acc: 0.8861\n",
      "Epoch 28/60\n",
      "6558/6558 - 0s - loss: 0.2613 - acc: 0.8864\n",
      "Epoch 29/60\n",
      "6558/6558 - 0s - loss: 0.2591 - acc: 0.8875\n",
      "Epoch 30/60\n",
      "6558/6558 - 0s - loss: 0.2545 - acc: 0.8919\n",
      "Epoch 31/60\n",
      "6558/6558 - 0s - loss: 0.2528 - acc: 0.8920\n",
      "Epoch 32/60\n",
      "6558/6558 - 0s - loss: 0.2517 - acc: 0.8913\n",
      "Epoch 33/60\n",
      "6558/6558 - 0s - loss: 0.2541 - acc: 0.8873\n",
      "Epoch 34/60\n",
      "6558/6558 - 0s - loss: 0.2557 - acc: 0.8898\n",
      "Epoch 35/60\n",
      "6558/6558 - 0s - loss: 0.2503 - acc: 0.8916\n",
      "Epoch 36/60\n",
      "6558/6558 - 0s - loss: 0.2507 - acc: 0.8917\n",
      "Epoch 37/60\n",
      "6558/6558 - 0s - loss: 0.2630 - acc: 0.8824\n",
      "Epoch 38/60\n",
      "6558/6558 - 0s - loss: 0.2533 - acc: 0.8911\n",
      "Epoch 39/60\n",
      "6558/6558 - 0s - loss: 0.2535 - acc: 0.8864\n",
      "Epoch 40/60\n",
      "6558/6558 - 0s - loss: 0.2463 - acc: 0.8949\n",
      "Epoch 41/60\n",
      "6558/6558 - 0s - loss: 0.2474 - acc: 0.8951\n",
      "Epoch 42/60\n",
      "6558/6558 - 0s - loss: 0.2527 - acc: 0.8901\n",
      "Epoch 43/60\n",
      "6558/6558 - 0s - loss: 0.2443 - acc: 0.8916\n",
      "Epoch 44/60\n",
      "6558/6558 - 0s - loss: 0.2433 - acc: 0.8959\n",
      "Epoch 45/60\n",
      "6558/6558 - 0s - loss: 0.2471 - acc: 0.8911\n",
      "Epoch 46/60\n",
      "6558/6558 - 0s - loss: 0.2440 - acc: 0.8919\n",
      "Epoch 47/60\n",
      "6558/6558 - 0s - loss: 0.2426 - acc: 0.8949\n",
      "Epoch 48/60\n",
      "6558/6558 - 0s - loss: 0.2415 - acc: 0.8919\n",
      "Epoch 49/60\n",
      "6558/6558 - 0s - loss: 0.2437 - acc: 0.8884\n",
      "Epoch 50/60\n",
      "6558/6558 - 0s - loss: 0.2387 - acc: 0.8963\n",
      "Epoch 51/60\n",
      "6558/6558 - 0s - loss: 0.2385 - acc: 0.8962\n",
      "Epoch 52/60\n",
      "6558/6558 - 0s - loss: 0.2428 - acc: 0.8959\n",
      "Epoch 53/60\n",
      "6558/6558 - 0s - loss: 0.2399 - acc: 0.8969\n",
      "Epoch 54/60\n",
      "6558/6558 - 0s - loss: 0.2353 - acc: 0.8987\n",
      "Epoch 55/60\n",
      "6558/6558 - 0s - loss: 0.2375 - acc: 0.8971\n",
      "Epoch 56/60\n",
      "6558/6558 - 0s - loss: 0.2342 - acc: 0.8997\n",
      "Epoch 57/60\n",
      "6558/6558 - 0s - loss: 0.2387 - acc: 0.8955\n",
      "Epoch 58/60\n",
      "6558/6558 - 0s - loss: 0.2374 - acc: 0.8954\n",
      "Epoch 59/60\n",
      "6558/6558 - 0s - loss: 0.2399 - acc: 0.8952\n",
      "Epoch 60/60\n",
      "6558/6558 - 0s - loss: 0.2304 - acc: 0.8980\n"
     ]
    },
    {
     "data": {
      "text/plain": [
       "<tensorflow.python.keras.callbacks.History at 0x281d6115c88>"
      ]
     },
     "execution_count": 45,
     "metadata": {},
     "output_type": "execute_result"
    }
   ],
   "source": [
    "model.fit(\n",
    "    X_train_scaler,\n",
    "    y_train_categorical,\n",
    "    epochs=60,\n",
    "    shuffle=True,\n",
    "    verbose=2\n",
    ")"
   ]
  },
  {
   "cell_type": "code",
   "execution_count": 46,
   "metadata": {},
   "outputs": [
    {
     "name": "stdout",
     "output_type": "stream",
     "text": [
      "2186/2186 - 0s - loss: 0.2669 - acc: 0.8879\n",
      "Normal Neural Network - Loss: 0.2669003219203129, Accuracy: 0.8879231214523315\n"
     ]
    }
   ],
   "source": [
    "model_loss, model_accuracy = model.evaluate(\n",
    "    X_test_scaler, y_test_categorical, verbose=2)\n",
    "print(\n",
    "    f\"Normal Neural Network - Loss: {model_loss}, Accuracy: {model_accuracy}\")"
   ]
  },
  {
   "cell_type": "markdown",
   "metadata": {},
   "source": [
    "# Final Conclusion"
   ]
  },
  {
   "cell_type": "markdown",
   "metadata": {},
   "source": [
    "#### 1. Random Forest - 88.79%\n",
    "#### 2. Deep Learning - 88.79%\n",
    "#### 3. SVM - 87.33%\n",
    "#### 4. K Nearest Neighbor - 82.80%"
   ]
  }
 ],
 "metadata": {
  "kernel_info": {
   "name": "dev"
  },
  "kernelspec": {
   "display_name": "Python (PythonData)",
   "language": "python",
   "name": "pythondata"
  },
  "language_info": {
   "codemirror_mode": {
    "name": "ipython",
    "version": 3
   },
   "file_extension": ".py",
   "mimetype": "text/x-python",
   "name": "python",
   "nbconvert_exporter": "python",
   "pygments_lexer": "ipython3",
   "version": "3.7.2"
  },
  "nteract": {
   "version": "0.12.3"
  }
 },
 "nbformat": 4,
 "nbformat_minor": 2
}
